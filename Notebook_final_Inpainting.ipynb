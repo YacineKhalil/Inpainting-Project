{
 "cells": [
  {
   "cell_type": "markdown",
   "id": "97cf4f9a",
   "metadata": {},
   "source": [
    "# Inpainting Project"
   ]
  },
  {
   "cell_type": "markdown",
   "id": "0bf5c817",
   "metadata": {},
   "source": [
    "importing libraries we are going to need :"
   ]
  },
  {
   "cell_type": "code",
   "execution_count": 1,
   "id": "365ec6bf",
   "metadata": {},
   "outputs": [],
   "source": [
    "import imageio as iio\n",
    "import numpy as np\n",
    "import skimage.morphology as morpho  \n",
    "from skimage import img_as_float\n",
    "import matplotlib.pyplot as plt\n",
    "from scipy.signal import convolve2d\n",
    "import cv2\n",
    "import imageio\n",
    "import os"
   ]
  },
  {
   "cell_type": "markdown",
   "id": "b7e82923",
   "metadata": {},
   "source": [
    "# Affichage de l'image"
   ]
  },
  {
   "cell_type": "code",
   "execution_count": 2,
   "id": "17ac59c3",
   "metadata": {},
   "outputs": [],
   "source": [
    "def view(data, size=(4, 4), dpi=100):\n",
    "    \"\"\"\n",
    "    Image Dispaly\n",
    "    \"\"\"\n",
    "    fig = plt.figure()\n",
    "    fig.set_size_inches(size)\n",
    "    ax = plt.Axes(fig, [0., 0., 1., 1.])\n",
    "    ax.set_axis_off()\n",
    "    fig.add_axes(ax)\n",
    "    ax.imshow(data)\n",
    "    plt.show()"
   ]
  },
  {
   "cell_type": "markdown",
   "id": "d2641b6e",
   "metadata": {},
   "source": [
    "# Création du masque"
   ]
  },
  {
   "cell_type": "code",
   "execution_count": 3,
   "id": "e53c06b1",
   "metadata": {},
   "outputs": [],
   "source": [
    "def mask_creation(im, x1, x2 , y1 , y2):\n",
    "    \"\"\"\n",
    "    Prend une image et les coordonnées de deux points et retourne un masque rectangulaire \n",
    "    de la taille de l'image. La partie masquée contient des 0 et le reste des 1. \n",
    "    \"\"\"\n",
    "    shape = im.shape\n",
    "    mask = np.ones((shape[0],shape[1]), dtype=int)\n",
    "    for i in range(x1,x2):\n",
    "        for j in range(y1,y2):\n",
    "            mask[i,j]=0\n",
    "    return mask\n",
    "\n",
    "\n",
    "# faite à l'aide de ClaudeIA \n",
    "\n",
    "def create_freehand_mask(image, display_scale_factor=1.5, initial_cursor_size=5):\n",
    "    \"\"\"\n",
    "    Permet à l'utilisateur de dessiner un masque à main levée avec un affichage agrandi.\n",
    "    Le masque et l'image finaux restent à la taille d'origine.\n",
    "    \"\"\"\n",
    "    h, w = image.shape[:2]\n",
    "    mask = np.ones((h, w), dtype=np.uint8)  # Masque à la taille d'origine\n",
    "\n",
    "    # Agrandir l'affichage uniquement pour la visualisation\n",
    "    display_image = cv2.resize(image, (int(w * display_scale_factor), int(h * display_scale_factor)))\n",
    "    display_mask = np.ones((int(h * display_scale_factor), int(w * display_scale_factor)), dtype=np.uint8)\n",
    "\n",
    "    # Paramètres du curseur\n",
    "    cursor_size = initial_cursor_size\n",
    "\n",
    "    # Fonction de dessin\n",
    "    def draw_circle(event, x, y, flags, param):\n",
    "        if event == cv2.EVENT_LBUTTONDOWN:\n",
    "            param['drawing'] = True\n",
    "        elif event == cv2.EVENT_MOUSEMOVE:\n",
    "            if param['drawing']:\n",
    "                # Adapter les coordonnées du curseur à la taille d'origine\n",
    "                orig_x, orig_y = int(x / display_scale_factor), int(y / display_scale_factor)\n",
    "                cv2.circle(mask, (orig_x, orig_y), cursor_size, 0, -1)  # Dessine sur le masque à taille réelle\n",
    "                cv2.circle(display_mask, (x, y), int(cursor_size * display_scale_factor), 0, -1)  # Dessine sur l'affichage\n",
    "        elif event == cv2.EVENT_LBUTTONUP:\n",
    "            param['drawing'] = False\n",
    "\n",
    "    params = {'drawing': False}\n",
    "    cv2.namedWindow(\"Draw Mask\")\n",
    "    cv2.setMouseCallback(\"Draw Mask\", draw_circle, params)\n",
    "\n",
    "    while True:\n",
    "        # Afficher l'image avec superposition du masque agrandi\n",
    "        display_overlay = cv2.addWeighted(display_image, 0.7, cv2.merge([display_mask * 255] * 3), 0.3, 0)\n",
    "        cv2.imshow(\"Draw Mask\", display_overlay)\n",
    "        \n",
    "        # Gestion de la taille du curseur\n",
    "        key = cv2.waitKey(1) & 0xFF\n",
    "        if key == ord('q'):  # Quitter avec 'q'\n",
    "            break\n",
    "        elif key == ord('m'):  # Augmenter la taille du curseur\n",
    "            cursor_size = min(cursor_size + 1, 50)\n",
    "        elif key == ord('p'):  # Réduire la taille du curseur\n",
    "            cursor_size = max(cursor_size - 1, 1)\n",
    "        elif key == 27:  # Échapper pour quitter\n",
    "            break\n",
    "\n",
    "    cv2.destroyAllWindows()\n",
    "    return mask\n"
   ]
  },
  {
   "cell_type": "markdown",
   "id": "80d36746",
   "metadata": {},
   "source": [
    "### Application du masque"
   ]
  },
  {
   "cell_type": "code",
   "execution_count": 4,
   "id": "5dc133b5",
   "metadata": {},
   "outputs": [],
   "source": [
    "def apply_mask(im,mask):\n",
    "    \"\"\"\n",
    "    applique un masque sur une image en multipliant chaque pixel par la valeur du masque (cette opération est faite pour les 3 canaux RGB de l'image)\n",
    "    \"\"\"\n",
    "    n,m,k=im.shape\n",
    "    new_im = np.zeros((n,m,k),dtype=int)\n",
    "    for i in range(3):\n",
    "        new_im[:,:,i]=im[:,:,i]*mask\n",
    "    return new_im"
   ]
  },
  {
   "cell_type": "markdown",
   "id": "3436229a",
   "metadata": {},
   "source": [
    "### Selection du patch"
   ]
  },
  {
   "cell_type": "code",
   "execution_count": 5,
   "id": "69fea499",
   "metadata": {},
   "outputs": [],
   "source": [
    "def get_patch(image,p,patch_size):\n",
    "    \"\"\"\n",
    "    retourne un patch de taille patch_size*\n",
    "    centré en p=(x,y) dans l'image. La taille par défaut est 16*16\n",
    "    \"\"\"\n",
    "    r = patch_size//2\n",
    "    clip = np.array(image[p[0]-r:p[0]+r+1,p[1]-r:p[1]+r+1])\n",
    "    return clip "
   ]
  },
  {
   "cell_type": "markdown",
   "id": "0e31eda0",
   "metadata": {},
   "source": [
    "# Detection de bords"
   ]
  },
  {
   "cell_type": "code",
   "execution_count": 6,
   "id": "72cd10e1",
   "metadata": {},
   "outputs": [],
   "source": [
    "def detection_de_bords(mask):\n",
    "    new_mask = 1-mask\n",
    "    #view(new_mask)\n",
    "    n,m=mask.shape\n",
    "    strell=morpho.disk(1)\n",
    "    bords= new_mask-morpho.erosion(new_mask,strell)\n",
    "    #view(strell)\n",
    "    L=[]\n",
    "    for i in range(n):\n",
    "        for j in range(m):\n",
    "            if(bords[i,j]==1):\n",
    "                L.append((i,j))\n",
    "    return L\n",
    "\n",
    "\n",
    "def detection_de_bords2(mask):\n",
    "    \"\"\"\n",
    "    On applique un noyau de convolution au masque pour obtenir les points de la frontière (il permet de détecter à chaque \n",
    "    point si il y'a au moins un point voisin qui a la valeur 1 ) puis on filtre le résultat pour conserver uniquement les points nuls \n",
    "    ayant au moins un voisin 1 ce qui constitue la frontière.\n",
    "    \"\"\"\n",
    "    n,m=mask.shape\n",
    "    kernel = np.array([[0, 1, 0], \n",
    "                       [1, 0, 1], \n",
    "                       [0, 1, 0]])\n",
    "    conv = convolve2d(mask, kernel, mode='same', boundary='fill', fillvalue=0)\n",
    "    indices_mat = (conv > 0) & (mask == 0)\n",
    "    L=[]\n",
    "    for i in range(n):\n",
    "        for j in range(m):\n",
    "            if indices_mat[i][j]==1:\n",
    "                L.append((i,j))\n",
    "    return L"
   ]
  },
  {
   "cell_type": "markdown",
   "id": "d83efb5d",
   "metadata": {},
   "source": [
    "# Calcul de distance"
   ]
  },
  {
   "cell_type": "code",
   "execution_count": 7,
   "id": "b49492fe",
   "metadata": {},
   "outputs": [],
   "source": [
    "def distance_patch(patch1 , patch2 , maskpatch):\n",
    "    \"\"\"\n",
    "    prend 2 patchs en argument et retourne la distance euclidienne entre les 2 patchs auquel on applique le masque \n",
    "    (qui correspond à la partie occultée du patch ayant la priorité maximale centré sur le point p appartenant au contour)\n",
    "    la somme est calculée sur les 3 canaux RGB (somme totale = somme canal R + somme canal G + somme canal B)\n",
    "    \"\"\"\n",
    "    patch1 = np.array(patch1).astype(np.uint64)\n",
    "    patch2 = np.array(patch2).astype(np.uint64)\n",
    "    d=0\n",
    "    for i in range(3): \n",
    "        d+= np.sum(maskpatch*(patch1[:,:,i]-patch2[:,:,i])**2)\n",
    "    return d\n",
    "\n",
    "from skimage.color import rgb2lab\n",
    "\n",
    "def distance_patch_2(patch1, patch2, maskpatch):\n",
    "    \"\"\"\n",
    "    Prend 2 patchs en argument et retourne la distance euclidienne dans l'espace CIE Lab\n",
    "    entre les 2 patchs, en appliquant le masque (qui correspond à la partie occultée du patch).\n",
    "    \"\"\"\n",
    "    # Conversion des patchs RGB vers Lab\n",
    "    patch1 = np.array(patch1).astype(np.uint64)\n",
    "    patch2 = np.array(patch2).astype(np.uint64)\n",
    "    patch1_lab = rgb2lab(patch1 / 255.0)  # Normaliser pour rgb2lab\n",
    "    patch2_lab = rgb2lab(patch2 / 255.0)\n",
    "    maskpatch = np.expand_dims(maskpatch, axis=-1)\n",
    "    # Calcul de la distance dans l'espace Lab\n",
    "    d = np.sum(maskpatch * ((patch1_lab - patch2_lab) ** 2))\n",
    "    \n",
    "    return d\n",
    "\n",
    "def distance_patch3(patch1, patch2, maskpatch):\n",
    "    \"\"\"\n",
    "    Calcule la distance euclidienne entre deux patchs, en revenant au cas noir et blanc\n",
    "    \n",
    "    \"\"\"\n",
    "    # Conversion des patchs dans l'espace de couleur Lab\n",
    "    gray_img1 = np.dot(patch1[...,:3], [0.2989, 0.5870, 0.1140])# on transforme l'image en niveaux de gris\n",
    "    gray_img2 = np.dot(patch2[...,:3], [0.2989, 0.5870, 0.1140])\n",
    "    gray_matrix1 = np.array(gray_img1)\n",
    "    gray_matrix2 = np.array(gray_img2)\n",
    "    # Initialisation de la distance\n",
    "    d = np.sum(maskpatch * (gray_matrix1 - gray_matrix2)**2)\n",
    "    return d\n"
   ]
  },
  {
   "cell_type": "markdown",
   "id": "6ac508b8",
   "metadata": {},
   "source": [
    "# Fonctions Gradient"
   ]
  },
  {
   "cell_type": "code",
   "execution_count": 8,
   "id": "7383554f",
   "metadata": {},
   "outputs": [],
   "source": [
    "def gradient_I2(image ,mask, bordure,patch_size):\n",
    "        \"\"\"\n",
    "        Calcul du gradient de l'image en tout point p de la frontière, en transformant l'image en noir et blanc\n",
    "        \"\"\"\n",
    "        h, w = image.shape[:2]\n",
    "        gray_img = np.dot(image[...,:3], [0.2989, 0.5870, 0.1140])  # on transforme l'image en niveaux de gris\n",
    "        gray_matrix = np.array(gray_img)\n",
    "        # on remplit la partie masquée de l'image avec des Nan. \n",
    "        gray_matrix[mask == 0] = np.nan\n",
    "        # Calcul du gradient\n",
    "        fgradx,fgrady = np.array([np.zeros([h, w]),np.zeros([h, w])])\n",
    "        for point in bordure:\n",
    "            patch=get_patch(gray_matrix,point,patch_size)\n",
    "            lenght_patch, width_patch = patch.shape\n",
    "            gradientR = np.nan_to_num(np.gradient(patch))\n",
    "            average_gradienX= np.sum(gradientR[0])/(lenght_patch*width_patch)\n",
    "            average_gradienY= np.sum(gradientR[1])/(lenght_patch*width_patch)\n",
    "            fgradx[point[0], point[1]] = average_gradienX\n",
    "            fgrady[point[0], point[1]] = average_gradienY\n",
    "\n",
    "        return [fgradx,fgrady]\n",
    "\n",
    "# test autre fonction gradient qui le calcul sur les trois canaux RGB séparément et retourne la moyenne de ces trois gradients\n",
    "def gradient_I(image, mask, bordure, patch_size):\n",
    "    '''\n",
    "    Moyenne de gradient sur tout les canaux\n",
    "    '''\n",
    "    h, w = image.shape[:2]\n",
    "    canal_matrix = np.array(image, dtype=float)\n",
    "    for i in range(3):\n",
    "        canal_matrix[:,:,i][mask == 0] = np.nan\n",
    "    fgradx_R, fgrady_R = np.array([np.zeros([h, w]), np.zeros([h, w])])\n",
    "    fgradx_G, fgrady_G = np.array([np.zeros([h, w]), np.zeros([h, w])])\n",
    "    fgradx_B, fgrady_B = np.array([np.zeros([h, w]), np.zeros([h, w])])\n",
    "    for point in bordure:\n",
    "        patch = get_patch(canal_matrix, point, patch_size)\n",
    "        lenght_patch, width_patch = patch.shape[:2]\n",
    "        gradientR = np.nan_to_num(np.gradient(patch))\n",
    "        average_gradienX_R = np.sum(gradientR[0][:, :, 0]) / (lenght_patch * width_patch)\n",
    "        average_gradienY_R = np.sum(gradientR[1][:, :, 0]) / (lenght_patch * width_patch)\n",
    "        fgradx_R[point[0], point[1]] = average_gradienX_R\n",
    "        fgrady_R[point[0], point[1]] = average_gradienY_R\n",
    "        average_gradienX_G = np.sum(gradientR[0][:, :, 1]) / (lenght_patch * width_patch)\n",
    "        average_gradienY_G = np.sum(gradientR[1][:, :, 1]) / (lenght_patch * width_patch)\n",
    "        fgradx_G[point[0], point[1]] = average_gradienX_G\n",
    "        fgrady_G[point[0], point[1]] = average_gradienY_G\n",
    "        average_gradienX_B = np.sum(gradientR[0][:, :, 2]) / (lenght_patch * width_patch)\n",
    "        average_gradienY_B = np.sum(gradientR[1][:, :, 2]) / (lenght_patch * width_patch)\n",
    "        fgradx_B[point[0], point[1]] = average_gradienX_B\n",
    "        fgrady_B[point[0], point[1]] = average_gradienY_B\n",
    "    fgradx = (fgradx_R + fgradx_G + fgradx_B) / 3\n",
    "    fgrady = (fgrady_R + fgrady_G + fgrady_B) / 3\n",
    "    return [fgradx, fgrady]\n",
    "\n",
    "def gradient_I3(image ,mask, bordure, patch_size):\n",
    "        \"\"\"\n",
    "        Gradient maximal sur tout les canaux\n",
    "        \"\"\"\n",
    "        h, w = image.shape[:2]\n",
    "        c=image.copy()\n",
    "        c_r= img_as_float(c[:,:,0])\n",
    "        c_g= img_as_float(c[:,:,1])\n",
    "        c_b= img_as_float(c[:,:,2])\n",
    "        # We fill the outside of the mask with nones\n",
    "        c_r[mask == 0] = np.nan\n",
    "        c_g[mask == 0] = np.nan\n",
    "        c_b[mask == 0] = np.nan\n",
    "        # We compute the gradient \n",
    "        fgradx,fgrady = np.array([np.zeros([h, w]),np.zeros([h, w])])\n",
    "        for point in bordure:\n",
    "            patch_r=get_patch(c_r,point,patch_size)\n",
    "            patch_g=get_patch(c_g,point,patch_size)\n",
    "            patch_b=get_patch(c_b,point,patch_size)\n",
    "            \n",
    "            gradientR = np.nan_to_num(np.gradient(patch_r))\n",
    "            gradientG = np.nan_to_num(np.gradient(patch_g))\n",
    "            gradientB = np.nan_to_num(np.gradient(patch_b))\n",
    "            \n",
    "            normeR= np.sqrt(gradientR[0]**2 + gradientR[1]**2)\n",
    "            normeG= np.sqrt(gradientG[0]**2 + gradientG[1]**2)\n",
    "            normeB= np.sqrt(gradientB[0]**2 + gradientB[1]**2)\n",
    "            \n",
    "            norme = np.maximum(normeR,normeG,normeB)\n",
    "            \n",
    "            max_patch = np.unravel_index(\n",
    "                norme.argmax(),\n",
    "                norme.shape\n",
    "            )\n",
    "            if normeR[max_patch] >= normeG[max_patch] and normeR[max_patch] >= normeB[max_patch]:\n",
    "                fgradx[point[0], point[1]] = gradientR[0][max_patch]\n",
    "                fgrady[point[0], point[1]] = gradientR[1][max_patch]\n",
    "            elif normeG[max_patch] >= normeR[max_patch] and normeG[max_patch] >= normeB[max_patch]:\n",
    "                fgradx[point[0], point[1]] = gradientG[0][max_patch]\n",
    "                fgrady[point[0], point[1]] = gradientG[1][max_patch]\n",
    "            else:\n",
    "                fgradx[point[0], point[1]] = gradientB[0][max_patch]\n",
    "                fgrady[point[0], point[1]] = gradientB[1][max_patch]\n",
    "\n",
    "\n",
    "        return [fgradx,fgrady]\n",
    "    "
   ]
  },
  {
   "cell_type": "markdown",
   "id": "3be1b3c7",
   "metadata": {},
   "source": [
    "# Vecteur normal"
   ]
  },
  {
   "cell_type": "code",
   "execution_count": 9,
   "id": "c21eaca7",
   "metadata": {},
   "outputs": [],
   "source": [
    "def normal_vect(image,mask,bord,patch_size) : #n(p)\n",
    "    h, w = mask.shape[:2]\n",
    "    coordx , coordy= np.zeros((h, w)),np.zeros((h, w))\n",
    "    for p in bord:\n",
    "        i,j=p\n",
    "        patch = get_patch(mask,(i,j),patch_size)\n",
    "        grad = np.nan_to_num(np.array(np.gradient(patch)))\n",
    "        gradX = grad[0]     # matrice des gradients en x\n",
    "        gradY = grad[1]     # matrice des gradients en y\n",
    "        centerX, centerY = patch.shape[0]//2 ,patch.shape[1]//2\n",
    "        a = gradX[centerX][centerY]\n",
    "        b = gradY[centerX][centerY]\n",
    "        coordx[i][j] = a/np.sqrt(a**2+b**2)\n",
    "        coordy[i][j] = b/np.sqrt(a**2+b**2)\n",
    "    return coordx,coordy"
   ]
  },
  {
   "cell_type": "markdown",
   "id": "5eb586a1",
   "metadata": {},
   "source": [
    "# Calcul de priorité"
   ]
  },
  {
   "cell_type": "code",
   "execution_count": 10,
   "id": "a663a156",
   "metadata": {},
   "outputs": [],
   "source": [
    "def c_matrix(mask, contour, patch_size, C=None):\n",
    "    \"\"\"\n",
    "    prend un masque en argument et retourne la matrice c de taille de l'image (la matrice c contient toutes les termes C(p)).\n",
    "    \"\"\"\n",
    "    if C is None:\n",
    "        c = mask.astype(np.float32).copy()\n",
    "    else:\n",
    "        c = C.astype(np.float32).copy()\n",
    "    for point in contour:\n",
    "        patch = get_patch(c,point,patch_size)\n",
    "        patch_mask = get_patch(mask,point,patch_size)\n",
    "        c[point[0],point[1]]=np.sum(patch*patch_mask)/(patch.shape[0]*patch.shape[1])\n",
    "    return c\n",
    "\n",
    "def P(image,mask,bordure,patch_size,C):\n",
    "    \n",
    "    \"Computes P for points of the bordure\"\n",
    "    h, w = mask.shape[:2]\n",
    "    P=np.zeros((h,w)).astype(np.float32)\n",
    "    I=gradient_I(image ,mask, bordure,patch_size)\n",
    "    N=normal_vect(image,mask,bordure,patch_size)\n",
    "    for (i,j) in bordure:\n",
    "        P[i][j] = (np.abs(I[1][i][j]*N[0][i][j] - I[0][i][j]*N[1][i][j])/255) * (C[i][j])\n",
    "    return P\n",
    "\n",
    "def maxP(image,mask,bordure,patch_size,C):\n",
    "    \n",
    "    \"Finds point with max value of P\"\n",
    "    \n",
    "    p=P(image,mask,bordure,patch_size,C)\n",
    "    maximum=p[bordure[0]]\n",
    "    argmax=bordure[0]\n",
    "    for point in bordure:\n",
    "        i,j=point\n",
    "        if(p[i][j]>=maximum):\n",
    "            maximum = p[i][j]\n",
    "            argmax=point\n",
    "    return argmax  "
   ]
  },
  {
   "cell_type": "markdown",
   "id": "7e15cda5",
   "metadata": {},
   "source": [
    "# Main"
   ]
  },
  {
   "cell_type": "code",
   "execution_count": 11,
   "id": "46de3edf",
   "metadata": {},
   "outputs": [],
   "source": [
    "def inpainting(chemin_image, image_name, patch_size=6, voisinage=True, initial_mask=None, t=0):\n",
    "    \n",
    "    # Cette partie est essentielle pour gerer le type de l'image \n",
    "    \n",
    "    if initial_mask is None:\n",
    "        image = cv2.imread(chemin_image)\n",
    "        initial_mask = create_freehand_mask(image)\n",
    "\n",
    "    image = imageio.v2.imread(chemin_image)\n",
    "    if image.shape[2] == 4:  # RGBA\n",
    "        image = image[:, :, :3]\n",
    "        filetype = \"png\"\n",
    "\n",
    "    else:\n",
    "        filetype = \"jpg\"\n",
    "\n",
    "    print(initial_mask)\n",
    "    mask = np.copy(initial_mask)\n",
    "    frt = detection_de_bords(mask)\n",
    "    print(frt)\n",
    "    new_image = apply_mask(image, mask)\n",
    "    view(new_image)\n",
    "    K = 0\n",
    "    ps = patch_size // 2\n",
    "    C = c_matrix(mask, frt, patch_size)\n",
    "\n",
    "    output_dir = os.path.join(\"output\", image_name, f\"patch_size_{patch_size}\")\n",
    "    os.makedirs(output_dir, exist_ok=True)\n",
    "    new_image = apply_mask(image, mask).astype(np.uint8)\n",
    "    # Sauvegarde de la première image masquée\n",
    "    iio.imwrite(os.path.join(output_dir, f\"{\"original\"}.{filetype}\"), new_image)\n",
    "\n",
    "    \n",
    "    while len(frt) > 0:\n",
    "        p_point = maxP(new_image, mask, frt, patch_size, C)\n",
    "        p_patch = get_patch(new_image, p_point, patch_size)\n",
    "        h, w = image.shape[0], image.shape[1]\n",
    "        Vx = max(2 * patch_size, h // 5)\n",
    "        Vy = max(2 * patch_size, w // 5)            \n",
    "        f = 1 if voisinage else 0\n",
    "        d = np.inf\n",
    "        distance_spatiale = np.inf\n",
    "        if p_point[0] < h-ps-1:\n",
    "\n",
    "            maskpatch = get_patch(mask, (p_point[0], p_point[1]), patch_size)\n",
    "\n",
    "            for x in range(max(ps, (p_point[0] - Vx) * f), min(h - ps, (p_point[0] + Vx + 1) + (h - ps) * (1 - f))):\n",
    "                for y in range(max(ps, (p_point[1] - Vy) * f), min(w - ps, (p_point[1] + Vy + 1) + (h - ps) * (1 - f))):\n",
    "                    potential = True\n",
    "                    firstpatch = get_patch(initial_mask, (x, y), patch_size)\n",
    "                    if 0 in firstpatch:      # si masqué, le rejeter directement\n",
    "                        potential = False\n",
    "                    if potential:\n",
    "                        distancetest_spatiale = np.sqrt((x - p_point[0]) ** 2 + (y - p_point[1]) ** 2)\n",
    "                        testPatch = get_patch(new_image, (x, y), patch_size)\n",
    "                        dtest = distance_patch(p_patch, testPatch, maskpatch)\n",
    "                        if t>0:\n",
    "                            if dtest < (1+t)*d and distancetest_spatiale<distance_spatiale:\n",
    "                                d = dtest \n",
    "                                distance_spatiale = distancetest_spatiale\n",
    "                                new_patch = np.copy(testPatch)\n",
    "                        else: \n",
    "                            if dtest < d:\n",
    "                                d = dtest \n",
    "                                distance_spatiale = distancetest_spatiale\n",
    "                                new_patch = np.copy(testPatch)\n",
    "        \n",
    "            for i in range(-ps, ps + 1):\n",
    "                for j in range(-ps, ps + 1):\n",
    "                    if mask[p_point[0] + i, p_point[1] + j] == 0:\n",
    "                        new_image[p_point[0] + i, p_point[1] + j] = new_patch[ps + i, ps + j]\n",
    "                        mask[p_point[0] + i, p_point[1] + j] = 1\n",
    "                        C[p_point[0] + i, p_point[1] + j] = C[p_point[0], p_point[1]]\n",
    "        else:\n",
    "            \n",
    "            # Cette partie est consacré au bas de l'image dans lequel le patch sort des limites\n",
    "            \n",
    "            padded_image = np.pad(new_image, pad_width=((0, ps+1), (0, ps+1), (0, 0)), mode='constant', constant_values=0)\n",
    "            padded_mask = np.pad(initial_mask, pad_width=((0, ps+1), (0, 0)), mode='constant', constant_values=0)\n",
    "            p_patch = get_patch(padded_image, p_point, patch_size)\n",
    "            kept_lines = h-1-p_point[0]\n",
    "            p_patch_resized = p_patch[:ps + kept_lines,:]\n",
    "            maskpatch = get_patch(mask, (p_point[0], p_point[1]), patch_size)[:ps + kept_lines,:]\n",
    "            for x in range(max(ps, (p_point[0] - Vx) * f), min(h - ps, (p_point[0] + Vx + 1) + (h - ps) * (1 - f))):\n",
    "                for y in range(max(ps, (p_point[1] - Vy) * f), min(w - ps, (p_point[1] + Vy + 1) + (h - ps) * (1 - f))):\n",
    "                    potential = True\n",
    "                    firstpatch = get_patch(initial_mask, (x, y), patch_size)[:ps + kept_lines,:]\n",
    "                    if 0 in firstpatch:\n",
    "                        potential = False\n",
    "                    if potential:\n",
    "                        distancetest_spatiale = np.sqrt((x - p_point[0]) ** 2 + (y - p_point[1]) ** 2)\n",
    "                        testPatch = get_patch(new_image, (x, y), patch_size)[:ps + kept_lines,:]\n",
    "                        dtest = distance_patch(p_patch_resized, testPatch, maskpatch)\n",
    "                        if dtest < d:\n",
    "                            d = dtest \n",
    "                            #distance_spatiale = distancetest_spatiale\n",
    "                            new_patch = np.copy(np.pad(testPatch, pad_width=((0, ps+1), (0, ps+1), (0, 0)), mode='constant', constant_values=0))\n",
    "            for i in range(-ps, ps + 1):\n",
    "                for j in range(-ps, ps + 1):\n",
    "                    ni, nj = p_point[0] + i, p_point[1] + j\n",
    "                    if 0 <= ni < new_image.shape[0] and 0 <= nj < new_image.shape[1]:\n",
    "                        if mask[ni, nj] == 0:\n",
    "                            new_image[ni, nj] = new_patch[ps + i, ps + j]\n",
    "                            mask[ni, nj] = 1\n",
    "                            C[ni, nj] = C[p_point[0], p_point[1]]\n",
    "\n",
    "        # Cette partie est consacré à l'affichage\n",
    "\n",
    "        frt = detection_de_bords(mask)\n",
    "        n = normal_vect(image, mask, frt, patch_size)\n",
    "        I = gradient_I(image, mask, frt, patch_size)\n",
    "\n",
    "        X = [frt[i][0] for i in range(len(frt))]\n",
    "        Y = [frt[i][1] for i in range(len(frt))]\n",
    "        U_grad = [I[0][i][j] for i, j in frt]\n",
    "        V_grad = [I[1][i][j] for i, j in frt]\n",
    "        U_norm = [n[0][i][j] for i, j in frt]\n",
    "        V_norm = [n[1][i][j] for i, j in frt]\n",
    "\n",
    "        output_dir = os.path.join(\"output\", image_name, f\"patch_size_{patch_size}\")\n",
    "        os.makedirs(output_dir, exist_ok=True)\n",
    "        new_image = new_image.astype(np.uint8)\n",
    "        # Sauvegarde de l'image seule\n",
    "        iio.imwrite(os.path.join(output_dir, f\"{K}.{filetype}\"), new_image)\n",
    "\n",
    "        # Création de la figure combinée\n",
    "        fig, axes = plt.subplots(1, 3, figsize=(24, 8))  # Trois éléments côte à côte\n",
    "        axes[0].imshow(new_image)\n",
    "        axes[0].set_title(\"Image restaurée\", fontsize=16)\n",
    "        axes[0].axis(\"off\")\n",
    "\n",
    "        axes[1].imshow(mask, cmap='viridis')\n",
    "        axes[1].quiver(Y, X, V_grad, U_grad, color='r')\n",
    "        axes[1].set_title(\"Gradients\", fontsize=16)\n",
    "\n",
    "        axes[2].imshow(mask, cmap='viridis')\n",
    "        axes[2].quiver(Y, X, V_norm, U_norm, color='b')\n",
    "        axes[2].set_title(\"Vecteurs Normaux\", fontsize=16)\n",
    "\n",
    "        # Sauvegarde de la figure combinée\n",
    "        plt.savefig(os.path.join(output_dir, f\"combined_{K}.png\"))\n",
    "        plt.close()\n",
    "\n",
    "        C = c_matrix(mask, frt, patch_size, C)\n",
    "        new_image = new_image.astype(np.uint8)\n",
    "\n",
    "        K += 1"
   ]
  },
  {
   "cell_type": "markdown",
   "id": "43e8ab49",
   "metadata": {},
   "source": [
    "### TEST"
   ]
  },
  {
   "cell_type": "code",
   "execution_count": null,
   "id": "a2576208",
   "metadata": {},
   "outputs": [
    {
     "ename": "KeyboardInterrupt",
     "evalue": "",
     "output_type": "error",
     "traceback": [
      "\u001b[1;31m---------------------------------------------------------------------------\u001b[0m",
      "\u001b[1;31mKeyboardInterrupt\u001b[0m                         Traceback (most recent call last)",
      "Cell \u001b[1;32mIn[12], line 2\u001b[0m\n\u001b[0;32m      1\u001b[0m triangle \u001b[38;5;241m=\u001b[39m cv2\u001b[38;5;241m.\u001b[39mimread(\u001b[38;5;124m'\u001b[39m\u001b[38;5;124mimages/triangle.jpg\u001b[39m\u001b[38;5;124m'\u001b[39m)\n\u001b[1;32m----> 2\u001b[0m triangle_mask \u001b[38;5;241m=\u001b[39m \u001b[43mcreate_freehand_mask\u001b[49m\u001b[43m(\u001b[49m\u001b[43mtriangle\u001b[49m\u001b[43m)\u001b[49m\n",
      "Cell \u001b[1;32mIn[3], line 54\u001b[0m, in \u001b[0;36mcreate_freehand_mask\u001b[1;34m(image, display_scale_factor, initial_cursor_size)\u001b[0m\n\u001b[0;32m     51\u001b[0m cv2\u001b[38;5;241m.\u001b[39mimshow(\u001b[38;5;124m\"\u001b[39m\u001b[38;5;124mDraw Mask\u001b[39m\u001b[38;5;124m\"\u001b[39m, display_overlay)\n\u001b[0;32m     53\u001b[0m \u001b[38;5;66;03m# Gestion de la taille du curseur\u001b[39;00m\n\u001b[1;32m---> 54\u001b[0m key \u001b[38;5;241m=\u001b[39m \u001b[43mcv2\u001b[49m\u001b[38;5;241;43m.\u001b[39;49m\u001b[43mwaitKey\u001b[49m\u001b[43m(\u001b[49m\u001b[38;5;241;43m1\u001b[39;49m\u001b[43m)\u001b[49m \u001b[38;5;241m&\u001b[39m \u001b[38;5;241m0xFF\u001b[39m\n\u001b[0;32m     55\u001b[0m \u001b[38;5;28;01mif\u001b[39;00m key \u001b[38;5;241m==\u001b[39m \u001b[38;5;28mord\u001b[39m(\u001b[38;5;124m'\u001b[39m\u001b[38;5;124mq\u001b[39m\u001b[38;5;124m'\u001b[39m):  \u001b[38;5;66;03m# Quitter avec 'q'\u001b[39;00m\n\u001b[0;32m     56\u001b[0m     \u001b[38;5;28;01mbreak\u001b[39;00m\n",
      "\u001b[1;31mKeyboardInterrupt\u001b[0m: "
     ]
    },
    {
     "ename": "",
     "evalue": "",
     "output_type": "error",
     "traceback": [
      "\u001b[1;31mThe Kernel crashed while executing code in the current cell or a previous cell. \n",
      "\u001b[1;31mPlease review the code in the cell(s) to identify a possible cause of the failure. \n",
      "\u001b[1;31mClick <a href='https://aka.ms/vscodeJupyterKernelCrash'>here</a> for more info. \n",
      "\u001b[1;31mView Jupyter <a href='command:jupyter.viewOutput'>log</a> for further details."
     ]
    }
   ],
   "source": [
    "triangle = cv2.imread('images/triangle.jpg')\n",
    "triangle_mask = create_freehand_mask(triangle)"
   ]
  },
  {
   "cell_type": "code",
   "execution_count": null,
   "id": "54e55e54",
   "metadata": {},
   "outputs": [
    {
     "name": "stdout",
     "output_type": "stream",
     "text": [
      "[[1 1 1 ... 1 1 1]\n",
      " [1 1 1 ... 1 1 1]\n",
      " [1 1 1 ... 1 1 1]\n",
      " ...\n",
      " [1 1 1 ... 1 1 1]\n",
      " [1 1 1 ... 1 1 1]\n",
      " [1 1 1 ... 1 1 1]]\n",
      "[(131, 124), (131, 125), (131, 126), (131, 127), (131, 128), (131, 130), (131, 132), (131, 134), (131, 136), (131, 137), (131, 139), (131, 140), (131, 141), (131, 142), (131, 145), (131, 148), (132, 119), (132, 120), (132, 121), (132, 122), (132, 123), (132, 129), (132, 131), (132, 133), (132, 135), (132, 138), (132, 143), (132, 144), (132, 146), (132, 147), (132, 149), (132, 150), (132, 151), (132, 152), (133, 116), (133, 117), (133, 118), (133, 153), (133, 154), (133, 155), (133, 156), (134, 113), (134, 114), (134, 115), (134, 157), (134, 158), (134, 159), (135, 111), (135, 112), (135, 160), (135, 161), (136, 110), (136, 162), (136, 163), (136, 164), (137, 110), (137, 165), (137, 166), (137, 167), (138, 110), (138, 168), (138, 169), (138, 170), (139, 109), (139, 171), (140, 109), (140, 172), (140, 173), (140, 174), (141, 110), (141, 175), (141, 176), (142, 110), (142, 177), (143, 110), (143, 178), (143, 179), (144, 111), (144, 112), (144, 113), (144, 115), (144, 180), (145, 114), (145, 116), (145, 181), (146, 116), (146, 182), (147, 116), (147, 183), (147, 184), (148, 115), (148, 167), (148, 168), (148, 169), (148, 185), (149, 115), (149, 166), (149, 170), (149, 186), (150, 115), (150, 167), (150, 170), (150, 187), (151, 115), (151, 145), (151, 168), (151, 171), (151, 172), (151, 173), (151, 188), (152, 115), (152, 138), (152, 139), (152, 140), (152, 141), (152, 142), (152, 143), (152, 144), (152, 146), (152, 147), (152, 148), (152, 149), (152, 168), (152, 174), (152, 189), (153, 116), (153, 137), (153, 150), (153, 168), (153, 175), (153, 190), (154, 116), (154, 136), (154, 151), (154, 152), (154, 153), (154, 169), (154, 176), (154, 177), (154, 190), (155, 116), (155, 135), (155, 154), (155, 155), (155, 169), (155, 178), (155, 191), (156, 117), (156, 135), (156, 156), (156, 157), (156, 169), (156, 179), (156, 191), (157, 117), (157, 135), (157, 158), (157, 170), (157, 179), (157, 191), (158, 118), (158, 136), (158, 137), (158, 138), (158, 155), (158, 156), (158, 157), (158, 169), (158, 180), (158, 192), (159, 119), (159, 139), (159, 140), (159, 141), (159, 142), (159, 143), (159, 144), (159, 145), (159, 146), (159, 148), (159, 149), (159, 150), (159, 152), (159, 153), (159, 154), (159, 169), (159, 181), (159, 192), (160, 120), (160, 147), (160, 151), (160, 169), (160, 182), (160, 192), (161, 121), (161, 168), (161, 183), (161, 192), (162, 122), (162, 123), (162, 167), (162, 183), (162, 193), (163, 124), (163, 125), (163, 167), (163, 183), (163, 193), (164, 126), (164, 127), (164, 166), (164, 181), (164, 182), (164, 193), (165, 128), (165, 165), (165, 180), (165, 193), (166, 129), (166, 130), (166, 131), (166, 164), (166, 166), (166, 168), (166, 169), (166, 170), (166, 173), (166, 174), (166, 176), (166, 177), (166, 178), (166, 179), (166, 192), (167, 132), (167, 133), (167, 134), (167, 165), (167, 167), (167, 171), (167, 172), (167, 175), (167, 192), (168, 135), (168, 136), (168, 192), (169, 137), (169, 138), (169, 191), (170, 139), (170, 140), (170, 141), (170, 190), (171, 142), (171, 143), (171, 189), (172, 144), (172, 145), (172, 146), (172, 188), (173, 147), (173, 148), (173, 149), (173, 150), (173, 151), (173, 186), (173, 187), (174, 152), (174, 153), (174, 154), (174, 156), (174, 183), (174, 184), (174, 185), (175, 155), (175, 157), (175, 158), (175, 159), (175, 160), (175, 162), (175, 163), (175, 165), (175, 167), (175, 171), (175, 172), (175, 175), (175, 177), (175, 179), (175, 180), (175, 181), (175, 182), (176, 161), (176, 164), (176, 166), (176, 168), (176, 169), (176, 170), (176, 173), (176, 174), (176, 176), (176, 178)]\n"
     ]
    },
    {
     "data": {
      "image/png": "[encoded data removed]",
      "text/plain": [
       "<Figure size 400x400 with 1 Axes>"
      ]
     },
     "metadata": {},
     "output_type": "display_data"
    },
    {
     "name": "stderr",
     "output_type": "stream",
     "text": [
      "C:\\Users\\yacin\\AppData\\Local\\Temp\\ipykernel_20256\\2012038109.py:13: RuntimeWarning: invalid value encountered in scalar divide\n",
      "  coordx[i][j] = a/np.sqrt(a**2+b**2)\n",
      "C:\\Users\\yacin\\AppData\\Local\\Temp\\ipykernel_20256\\2012038109.py:14: RuntimeWarning: invalid value encountered in scalar divide\n",
      "  coordy[i][j] = b/np.sqrt(a**2+b**2)\n",
      "c:\\Users\\yacin\\AppData\\Local\\Programs\\Python\\Python312\\Lib\\site-packages\\matplotlib\\quiver.py:630: RuntimeWarning: Mean of empty slice.\n",
      "  amean = a[~self.Umask].mean()\n",
      "c:\\Users\\yacin\\AppData\\Local\\Programs\\Python\\Python312\\Lib\\site-packages\\numpy\\_core\\_methods.py:138: RuntimeWarning: invalid value encountered in scalar divide\n",
      "  ret = ret.dtype.type(ret / rcount)\n",
      "c:\\Users\\yacin\\AppData\\Local\\Programs\\Python\\Python312\\Lib\\site-packages\\matplotlib\\quiver.py:632: RuntimeWarning: Mean of empty slice.\n",
      "  amean = a.mean()\n"
     ]
    }
   ],
   "source": [
    "inpainting('images/triangle.jpg', 'triangle006', patch_size=6, voisinage=False, initial_mask=triangle_mask)"
   ]
  },
  {
   "cell_type": "code",
   "execution_count": null,
   "id": "686d44f4",
   "metadata": {},
   "outputs": [],
   "source": [
    "stop2 = iio.imread('images/stop2.jpg')\n",
    "stop2_mask = mask_creation(stop2, 400, 493 , 245, 350)\n",
    "view(apply_mask(stop2,stop2_mask))\n",
    "frt=detection_de_bords(stop2_mask)\n",
    "print(frt)"
   ]
  },
  {
   "cell_type": "code",
   "execution_count": null,
   "id": "d92a3f88",
   "metadata": {},
   "outputs": [],
   "source": [
    "stop2 = iio.imread('images/stop2.jpg')\n",
    "stop2_mask = mask_creation(stop2, 340, 440 , 245, 350)\n",
    "view(apply_mask(stop2,stop2_mask))\n",
    "inpainting('images/stop2.jpg', 'stop2', patch_size=20, voisinage=False, initial_mask=stop2_mask)"
   ]
  },
  {
   "cell_type": "code",
   "execution_count": null,
   "id": "841d3203",
   "metadata": {},
   "outputs": [],
   "source": [
    "caree = iio.imread('images/mask.jpg')\n",
    "mask_caree = mask_creation(caree, 105, 145 , 80, 105)\n",
    "inpainting('images/mask.jpg', 'mask.jpg', patch_size=12, voisinage=False, initial_mask=mask_caree)"
   ]
  },
  {
   "cell_type": "code",
   "execution_count": null,
   "id": "2f07ce52",
   "metadata": {},
   "outputs": [],
   "source": [
    "mask_caree = mask_creation(caree, 80, 170 , 60, 180)\n",
    "inpainting('images/mask.jpg', \"caree\", 6, True, initial_mask = mask_caree)"
   ]
  },
  {
   "cell_type": "code",
   "execution_count": null,
   "id": "dfc3a4d1",
   "metadata": {},
   "outputs": [],
   "source": [
    "beach = iio.imread('images/beach.jpg')\n",
    "mask_beach = create_freehand_mask(beach)\n",
    "view(mask_beach)\n",
    "view(apply_mask(beach, mask_beach))"
   ]
  },
  {
   "cell_type": "code",
   "execution_count": null,
   "id": "52467cda",
   "metadata": {},
   "outputs": [],
   "source": [
    "inpainting(\"images/ile.png\", \"ile\", patch_size = 24, voisinage=True)"
   ]
  },
  {
   "cell_type": "code",
   "execution_count": null,
   "id": "c2f87924",
   "metadata": {},
   "outputs": [],
   "source": [
    "ovale = cv2.imread('images/ovale.jpg')\n",
    "mask_ovale = create_freehand_mask(ovale)\n",
    "print(mask_ovale.shape)\n",
    "view(mask_ovale)"
   ]
  },
  {
   "cell_type": "code",
   "execution_count": null,
   "id": "e19bb867",
   "metadata": {},
   "outputs": [],
   "source": [
    "inpainting(\"images/ovale.jpg\", \"ovale\", patch_size = 8, voisinage=True, initial_mask = mask_ovale)"
   ]
  },
  {
   "cell_type": "code",
   "execution_count": null,
   "id": "7413d729",
   "metadata": {},
   "outputs": [],
   "source": [
    "inpainting(\"images/triangle.jpg\", \"triangle\", patch_size = 7, voisinage=True)"
   ]
  },
  {
   "cell_type": "code",
   "execution_count": null,
   "id": "de08f5b9",
   "metadata": {},
   "outputs": [],
   "source": [
    "inpainting(\"images/texture_rose_jaune.jpg\", \"texture_rose_jaune\", patch_size = 32, voisinage=True)"
   ]
  },
  {
   "cell_type": "code",
   "execution_count": null,
   "id": "ec4544a3",
   "metadata": {},
   "outputs": [],
   "source": [
    "inpainting(\"images/amodale2.jpg\", \"amodal2\", patch_size = 8, voisinage=False)"
   ]
  },
  {
   "cell_type": "code",
   "execution_count": null,
   "id": "5b3e996d",
   "metadata": {},
   "outputs": [],
   "source": [
    "inpainting('images/arbre.jpg', \"arbre.jpg\", patch_size=9, voisinage=True)"
   ]
  },
  {
   "cell_type": "code",
   "execution_count": null,
   "id": "167e2056",
   "metadata": {},
   "outputs": [],
   "source": [
    "balle_verte = cv2.imread('images/article_image7.jpg')\n",
    "masque_balle_verte = create_freehand_mask(balle_verte)"
   ]
  },
  {
   "cell_type": "code",
   "execution_count": null,
   "id": "2ea608c4",
   "metadata": {},
   "outputs": [],
   "source": [
    "inpainting('images/article_image7.jpg', \"balleverte\", patch_size=6, voisinage=False, initial_mask=masque_balle_verte)"
   ]
  },
  {
   "cell_type": "code",
   "execution_count": null,
   "id": "64a71843",
   "metadata": {},
   "outputs": [],
   "source": [
    "inpainting('images/statue.jpg', \"statue\", 6, True)"
   ]
  },
  {
   "cell_type": "code",
   "execution_count": null,
   "id": "2e80d65d",
   "metadata": {},
   "outputs": [],
   "source": [
    "poteau = cv2.imread('images/poteau.jpg')\n",
    "mask_poteau = create_freehand_mask(poteau)"
   ]
  },
  {
   "cell_type": "code",
   "execution_count": null,
   "id": "d49fdcdd",
   "metadata": {},
   "outputs": [],
   "source": [
    "inpainting(\"images/poteau.jpg\", \"poteau\", patch_size = 14, voisinage=False, initial_mask = mask_poteau)"
   ]
  },
  {
   "cell_type": "code",
   "execution_count": null,
   "id": "91727899",
   "metadata": {},
   "outputs": [],
   "source": [
    "inpainting('images/stop3.jpg', \"stop3\", 10, True)"
   ]
  },
  {
   "cell_type": "code",
   "execution_count": null,
   "id": "265fce3f",
   "metadata": {},
   "outputs": [],
   "source": [
    "inpainting('images/rainbow.jpg', \"rainbow\", 14, False)"
   ]
  },
  {
   "cell_type": "code",
   "execution_count": null,
   "id": "0c9a8561",
   "metadata": {},
   "outputs": [],
   "source": [
    "inpainting('images/handwriting.jpg', \"handwriting\", 14, False)"
   ]
  },
  {
   "cell_type": "code",
   "execution_count": null,
   "id": "6459d80f",
   "metadata": {},
   "outputs": [],
   "source": [
    "inpainting('images/poom.png', \"poom\", 10, False)"
   ]
  },
  {
   "cell_type": "code",
   "execution_count": null,
   "id": "852b2a0c",
   "metadata": {},
   "outputs": [],
   "source": [
    "inpainting('images/article_image5.jpg', \"japanese\", 6, False)"
   ]
  },
  {
   "cell_type": "code",
   "execution_count": null,
   "id": "47964ff5",
   "metadata": {},
   "outputs": [],
   "source": [
    "poteau2 = cv2.imread('images/poteau2.jpg')\n",
    "mask_poteau2 = create_freehand_mask(poteau2)"
   ]
  },
  {
   "cell_type": "code",
   "execution_count": null,
   "id": "e2f69eea",
   "metadata": {},
   "outputs": [],
   "source": [
    "inpainting('images/poteau2.jpg', \"poteau2\", 10, False, mask_poteau2)"
   ]
  },
  {
   "cell_type": "code",
   "execution_count": null,
   "id": "f0408217",
   "metadata": {},
   "outputs": [],
   "source": [
    "femme = cv2.imread('images/femme.jpg')  \n",
    "mask_femme = create_freehand_mask(femme)"
   ]
  },
  {
   "cell_type": "code",
   "execution_count": null,
   "id": "9ac19066",
   "metadata": {},
   "outputs": [],
   "source": [
    "inpainting(femme, \"femme\", 10, False, mask_femme)"
   ]
  },
  {
   "cell_type": "code",
   "execution_count": null,
   "id": "d132b5f7",
   "metadata": {},
   "outputs": [],
   "source": [
    "fruits = cv2.imread('images/fruits.jpg')\n",
    "mask_fruits = create_freehand_mask(fruits)"
   ]
  },
  {
   "cell_type": "code",
   "execution_count": null,
   "id": "fbb58b3b",
   "metadata": {},
   "outputs": [],
   "source": [
    "inpainting('images/fruits.jpg', \"fruits\", 6, False, mask_fruits)"
   ]
  },
  {
   "cell_type": "code",
   "execution_count": null,
   "id": "9209e06b",
   "metadata": {},
   "outputs": [],
   "source": [
    "diver = cv2.imread('images/article_image4.jpg')\n",
    "diver_mask = create_freehand_mask(diver)"
   ]
  },
  {
   "cell_type": "code",
   "execution_count": null,
   "id": "84e43336",
   "metadata": {},
   "outputs": [],
   "source": [
    "inpainting('images/article_image4.jpg', \"diver\", 14, False, diver_mask)"
   ]
  },
  {
   "cell_type": "code",
   "execution_count": null,
   "id": "72e58f3e",
   "metadata": {},
   "outputs": [],
   "source": [
    "inpainting('images/saumon.jpg', \"saumon\", 16, False)"
   ]
  }
 ],
 "metadata": {
  "kernelspec": {
   "display_name": "Python 3",
   "language": "python",
   "name": "python3"
  },
  "language_info": {
   "codemirror_mode": {
    "name": "ipython",
    "version": 3
   },
   "file_extension": ".py",
   "mimetype": "text/x-python",
   "name": "python",
   "nbconvert_exporter": "python",
   "pygments_lexer": "ipython3",
   "version": "3.12.4"
  }
 },
 "nbformat": 4,
 "nbformat_minor": 5
}
